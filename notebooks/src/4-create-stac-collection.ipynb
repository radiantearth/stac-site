{
 "cells": [
  {
   "cell_type": "markdown",
   "metadata": {},
   "source": [
    "# Create a STAC Catalog with a Collection Using PySTAC"
   ]
  },
  {
   "cell_type": "markdown",
   "metadata": {},
   "source": [
    "This tutorial builds off of the knowledge from the previous tutorials (where you learned how to [create a STAC Catalog](/en/tutorials/2-create-stac-catalog-python/index.html) and [create a STAC Item that utilizes extensions](/en/tutorials/3-create-stac-item-with-extension/index.html)). Now that you know the basics of creating a STAC Catalog, we want to add more functionality to it. This tutorial shows you how to add a STAC Collection to a Catalog to better organize the catalog's items. "
   ]
  },
  {
   "cell_type": "markdown",
   "metadata": {},
   "source": [
    "## Dependencies \n",
    "If you need to install pystac, rasterio, or pystac, uncomment the lines below and run the cell."
   ]
  },
  {
   "cell_type": "code",
   "execution_count": 1,
   "metadata": {},
   "outputs": [],
   "source": [
    "# ! pip install pystac\n",
    "# ! pip install rasterio\n",
    "# ! pip install shapely"
   ]
  },
  {
   "cell_type": "markdown",
   "metadata": {},
   "source": [
    "## STAC Collections\n",
    "\n",
    "Collections are a subtype of a catalog that have some additional properties to make them more searchable. They also can define common properties so that items in the collection don't have to duplicate common data for each item. Let's create a collection to hold common properties between two images from the [SpaceNet 5 Challenge](https://spacenet.ai/sn5-challenge/).\n",
    "\n",
    "We will use the image we have been working with along with another image. "
   ]
  },
  {
   "cell_type": "markdown",
   "metadata": {},
   "source": [
    "## Import Packages and Store Data\n",
    "To begin, import the packages that you need to access data and work with STAC in Python."
   ]
  },
  {
   "cell_type": "code",
   "execution_count": 2,
   "metadata": {},
   "outputs": [],
   "source": [
    "import os\n",
    "import rasterio\n",
    "import urllib.request\n",
    "import pystac\n",
    "\n",
    "from shapely.geometry import Polygon, mapping\n",
    "from datetime import datetime, timezone\n",
    "from pystac.extensions.eo import Band, EOExtension\n",
    "from tempfile import TemporaryDirectory"
   ]
  },
  {
   "cell_type": "markdown",
   "metadata": {},
   "source": [
    "Let's set up our temporary directory and store two images from the Spacenet 5 Challenge."
   ]
  },
  {
   "cell_type": "code",
   "execution_count": 3,
   "metadata": {},
   "outputs": [
    {
     "name": "stdout",
     "output_type": "stream",
     "text": [
      "img_path1:  /var/folders/73/z5lbqv_s6l7fcfx464_pn8p80000gn/T/tmp72oetiz2/image1.tif \n",
      " img_path2:  /var/folders/73/z5lbqv_s6l7fcfx464_pn8p80000gn/T/tmp72oetiz2/image2.tif\n"
     ]
    }
   ],
   "source": [
    "# Set temporary directory to store source data\n",
    "tmp_dir = TemporaryDirectory()\n",
    "img_path1 = os.path.join(tmp_dir.name, 'image1.tif')\n",
    "\n",
    "# Fetch and store data\n",
    "url1 = ('https://spacenet-dataset.s3.amazonaws.com/'\n",
    "       'spacenet/SN5_roads/train/AOI_7_Moscow/MS/'\n",
    "       'SN5_roads_train_AOI_7_Moscow_MS_chip996.tif')\n",
    "urllib.request.urlretrieve(url1, img_path1)\n",
    "\n",
    "url2 = ('https://spacenet-dataset.s3.amazonaws.com/'\n",
    "       'spacenet/SN5_roads/train/AOI_7_Moscow/MS/'\n",
    "       'SN5_roads_train_AOI_7_Moscow_MS_chip997.tif')\n",
    "img_path2 = os.path.join(tmp_dir.name, 'image2.tif')\n",
    "urllib.request.urlretrieve(url2, img_path2)\n",
    "\n",
    "print(\"img_path1: \" , img_path1, \"\\n\", \"img_path2: \", img_path2)"
   ]
  },
  {
   "cell_type": "markdown",
   "metadata": {},
   "source": [
    "## Collect the Items' `geometry` and `bbox`\n",
    "To get the bounding box and footprint of the image, we will utilize the `get_bbox_and_footprint` function we first used in the [Create a STAC Catalog Tutorial](/en/tutorials/2-create-stac-catalog-python/index.html).\n",
    "\n",
    "We will do this process for both the images in which we are using."
   ]
  },
  {
   "cell_type": "code",
   "execution_count": 4,
   "metadata": {},
   "outputs": [],
   "source": [
    "def get_bbox_and_footprint(raster):\n",
    "    with rasterio.open(raster) as r:\n",
    "        bounds = r.bounds\n",
    "        bbox = [bounds.left, bounds.bottom, bounds.right, bounds.top]\n",
    "        footprint = Polygon([\n",
    "            [bounds.left, bounds.bottom],\n",
    "            [bounds.left, bounds.top],\n",
    "            [bounds.right, bounds.top],\n",
    "            [bounds.right, bounds.bottom]\n",
    "        ])\n",
    "        \n",
    "        return (bbox, mapping(footprint))"
   ]
  },
  {
   "cell_type": "code",
   "execution_count": 5,
   "metadata": {},
   "outputs": [
    {
     "name": "stdout",
     "output_type": "stream",
     "text": [
      "bbox:  [37.6616853489879, 55.73478197572927, 37.66573047610874, 55.73882710285011] \n",
      "\n",
      "footprint:  {'type': 'Polygon', 'coordinates': (((37.6616853489879, 55.73478197572927), (37.6616853489879, 55.73882710285011), (37.66573047610874, 55.73882710285011), (37.66573047610874, 55.73478197572927), (37.6616853489879, 55.73478197572927)),)}\n"
     ]
    }
   ],
   "source": [
    "# Run the function and print out the results for image 1\n",
    "bbox, footprint = get_bbox_and_footprint(img_path1)\n",
    "print(\"bbox: \", bbox, \"\\n\")\n",
    "print(\"footprint: \", footprint)"
   ]
  },
  {
   "cell_type": "code",
   "execution_count": 6,
   "metadata": {},
   "outputs": [
    {
     "name": "stdout",
     "output_type": "stream",
     "text": [
      "bbox:  [37.67786535472783, 55.726691972859314, 37.68191048184866, 55.730737099980146] \n",
      "\n",
      "footprint:  {'type': 'Polygon', 'coordinates': (((37.67786535472783, 55.726691972859314), (37.67786535472783, 55.730737099980146), (37.68191048184866, 55.730737099980146), (37.68191048184866, 55.726691972859314), (37.67786535472783, 55.726691972859314)),)}\n"
     ]
    }
   ],
   "source": [
    "# Run the function and print out the results for image 2\n",
    "bbox2, footprint2 = get_bbox_and_footprint(img_path2)\n",
    "print(\"bbox: \", bbox2, \"\\n\")\n",
    "print(\"footprint: \", footprint2)"
   ]
  },
  {
   "cell_type": "markdown",
   "metadata": {},
   "source": [
    "## Define the Bands of WorldView-3\n",
    "In this tutorial, we will need the band information again. We have collected this band information from the [WorldView-3 Data Sheet](https://www.spaceimagingme.com/downloads/sensors/datasheets/DG_WorldView3_DS_2014.pdf). "
   ]
  },
  {
   "cell_type": "code",
   "execution_count": 7,
   "metadata": {},
   "outputs": [],
   "source": [
    "wv3_bands = [Band.create(name='Coastal', description='Coastal: 400 - 450 nm', common_name='coastal'),\n",
    "             Band.create(name='Blue', description='Blue: 450 - 510 nm', common_name='blue'),\n",
    "             Band.create(name='Green', description='Green: 510 - 580 nm', common_name='green'),\n",
    "             Band.create(name='Yellow', description='Yellow: 585 - 625 nm', common_name='yellow'),\n",
    "             Band.create(name='Red', description='Red: 630 - 690 nm', common_name='red'),\n",
    "             Band.create(name='Red Edge', description='Red Edge: 705 - 745 nm', common_name='rededge'),\n",
    "             Band.create(name='Near-IR1', description='Near-IR1: 770 - 895 nm', common_name='nir08'),\n",
    "             Band.create(name='Near-IR2', description='Near-IR2: 860 - 1040 nm', common_name='nir09')]"
   ]
  },
  {
   "cell_type": "markdown",
   "metadata": {},
   "source": [
    "## Create the Collection\n",
    "\n",
    "Take a look at the PySTAC API Documentation for [Collection](https://pystac.readthedocs.io/en/stable/api/collection.html#pystac-collection) to see what information we need to supply in order to satisfy the specification."
   ]
  },
  {
   "cell_type": "markdown",
   "metadata": {},
   "source": [
    "Beyond what a Catalog requires, a Collection requires a `license` of the data in the collection and an `extent` that describes the range of space and time that the items it holds occupy."
   ]
  },
  {
   "cell_type": "markdown",
   "metadata": {},
   "source": [
    "An `extent` is comprised of a `SpatialExtent` and a `TemporalExtent`. These extents hold one or more bounding boxes and time intervals, respectively, that completely  cover the items contained in the collections.\n",
    "\n",
    "Let's start with creating two new items - these will be core items. We can set these items to implement the EO extension by specifying them in the `stac_extensions`."
   ]
  },
  {
   "cell_type": "code",
   "execution_count": 8,
   "metadata": {},
   "outputs": [],
   "source": [
    "collection_item = pystac.Item(id='local-image-col-1',\n",
    "                               geometry=footprint,\n",
    "                               bbox=bbox,\n",
    "                               datetime=datetime.utcnow(),\n",
    "                               properties={})\n",
    "\n",
    "collection_item.common_metadata.gsd = 0.3\n",
    "collection_item.common_metadata.platform = 'Maxar'\n",
    "collection_item.common_metadata.instruments = ['WorldView3']\n",
    "\n",
    "asset = pystac.Asset(href=img_path1, \n",
    "                      media_type=pystac.MediaType.GEOTIFF)\n",
    "collection_item.add_asset(\"image\", asset)\n",
    "eo = EOExtension.ext(collection_item.assets[\"image\"], add_if_missing=True)\n",
    "eo.apply(wv3_bands)\n",
    "\n",
    "collection_item2 = pystac.Item(id='local-image-col-2',\n",
    "                               geometry=footprint2,\n",
    "                               bbox=bbox2,\n",
    "                               datetime=datetime.utcnow(),\n",
    "                               properties={})\n",
    "\n",
    "collection_item2.common_metadata.gsd = 0.3\n",
    "collection_item2.common_metadata.platform = 'Maxar'\n",
    "collection_item2.common_metadata.instruments = ['WorldView3']\n",
    "\n",
    "asset2 = pystac.Asset(href=img_path2,\n",
    "                     media_type=pystac.MediaType.GEOTIFF)\n",
    "collection_item2.add_asset(\"image\", asset2)\n",
    "eo = EOExtension.ext(collection_item2.assets[\"image\"], add_if_missing=True)\n",
    "eo.apply([\n",
    "    band for band in wv3_bands if band.name in [\"Red\", \"Green\", \"Blue\"]\n",
    "])\n"
   ]
  },
  {
   "cell_type": "markdown",
   "metadata": {},
   "source": [
    "We can use our two items' metadata to find out what the proper bounds are:"
   ]
  },
  {
   "cell_type": "code",
   "execution_count": 9,
   "metadata": {},
   "outputs": [],
   "source": [
    "from shapely.geometry import shape\n",
    "\n",
    "unioned_footprint = shape(footprint).union(shape(footprint2))\n",
    "collection_bbox = list(unioned_footprint.bounds)\n",
    "spatial_extent = pystac.SpatialExtent(bboxes=[collection_bbox])"
   ]
  },
  {
   "cell_type": "code",
   "execution_count": 10,
   "metadata": {},
   "outputs": [],
   "source": [
    "collection_interval = sorted([collection_item.datetime, collection_item2.datetime])\n",
    "temporal_extent = pystac.TemporalExtent(intervals=[collection_interval])"
   ]
  },
  {
   "cell_type": "code",
   "execution_count": 11,
   "metadata": {},
   "outputs": [],
   "source": [
    "collection_extent = pystac.Extent(spatial=spatial_extent, temporal=temporal_extent)"
   ]
  },
  {
   "cell_type": "code",
   "execution_count": 12,
   "metadata": {},
   "outputs": [],
   "source": [
    "collection = pystac.Collection(id='wv3-images',\n",
    "                               description='Spacenet 5 images over Moscow',\n",
    "                               extent=collection_extent,\n",
    "                               license='CC-BY-SA-4.0')"
   ]
  },
  {
   "cell_type": "markdown",
   "metadata": {},
   "source": [
    "Now if we add our items to our collection, and our collection to a catalog, we get the following STAC that can be saved:"
   ]
  },
  {
   "cell_type": "code",
   "execution_count": 13,
   "metadata": {},
   "outputs": [
    {
     "data": {
      "text/html": [
       "\n",
       "\n",
       "<style>\n",
       ".pystac-summary {\n",
       "    cursor: pointer;\n",
       "    display:list-item;\n",
       "}\n",
       ".pystac-key {\n",
       "    color: rgb(0, 128, 0);\n",
       "    font-weight: 700;\n",
       "}\n",
       ".pystac-key-value {\n",
       "    display: inline-block;\n",
       "    margin: 0px 0.5em 0px 0px;\n",
       "}\n",
       "</style>\n",
       "<div class=\"jp-RenderedJSON jp-mod-trusted jp-OutputArea-output\">\n",
       "    <div class=\"container\" style=\"line-height: normal;\">\n",
       "        <ul style=\"padding: 0px; margin: 0px; list-style: none; display: block;\">\n",
       "            \n",
       "                \n",
       "                    \n",
       "        <li style=\"overflow-wrap: break-word; padding-left: 2.125em; text-indent: -0.5em;\">\n",
       "            <span class=\"pystac-key pystac-key-value\">rel</span>\n",
       "            <span style=\"color: rgb(186, 33, 33);\">\"child\"</span>\n",
       "        </li>\n",
       "    \n",
       "                \n",
       "            \n",
       "                \n",
       "                    \n",
       "        <li style=\"overflow-wrap: break-word; padding-left: 2.125em; text-indent: -0.5em;\">\n",
       "            <span class=\"pystac-key pystac-key-value\">href</span>\n",
       "            <span style=\"color: rgb(186, 33, 33);\">None</span>\n",
       "        </li>\n",
       "    \n",
       "                \n",
       "            \n",
       "                \n",
       "                    \n",
       "        <li style=\"overflow-wrap: break-word; padding-left: 2.125em; text-indent: -0.5em;\">\n",
       "            <span class=\"pystac-key pystac-key-value\">type</span>\n",
       "            <span style=\"color: rgb(186, 33, 33);\">\"application/json\"</span>\n",
       "        </li>\n",
       "    \n",
       "                \n",
       "            \n",
       "        </ul>\n",
       "    </div>\n",
       "</div>"
      ],
      "text/plain": [
       "<Link rel=child target=<Collection id=wv3-images>>"
      ]
     },
     "execution_count": 13,
     "metadata": {},
     "output_type": "execute_result"
    }
   ],
   "source": [
    "collection.add_items([collection_item, collection_item2])\n",
    "catalog = pystac.Catalog(id='catalog-with-collection', \n",
    "                         description='This Catalog is a basic demonstration of how to include a Collection in a STAC Catalog.')\n",
    "catalog.add_child(collection)\n"
   ]
  },
  {
   "cell_type": "code",
   "execution_count": 14,
   "metadata": {},
   "outputs": [
    {
     "name": "stdout",
     "output_type": "stream",
     "text": [
      "* <Catalog id=catalog-with-collection>\n",
      "    * <Collection id=wv3-images>\n",
      "      * <Item id=local-image-col-1>\n",
      "      * <Item id=local-image-col-2>\n"
     ]
    }
   ],
   "source": [
    "catalog.describe()"
   ]
  },
  {
   "cell_type": "code",
   "execution_count": 15,
   "metadata": {},
   "outputs": [],
   "source": [
    "catalog.normalize_and_save(root_href=os.path.join(tmp_dir.name, 'stac-collection'), \n",
    "                           catalog_type=pystac.CatalogType.SELF_CONTAINED)"
   ]
  },
  {
   "cell_type": "markdown",
   "metadata": {},
   "source": [
    "## Cleanup\n",
    "\n",
    "Don't forget to clean up the temporary directory."
   ]
  },
  {
   "cell_type": "code",
   "execution_count": 16,
   "metadata": {},
   "outputs": [],
   "source": [
    "tmp_dir.cleanup()"
   ]
  },
  {
   "cell_type": "markdown",
   "metadata": {},
   "source": [
    "There you have it. A STAC Catalog with a STAC Collection, STAC Items, and use of a STAC Extension. Now you are ready to build your own STAC Catalog for a dataset of your own."
   ]
  },
  {
   "cell_type": "markdown",
   "metadata": {},
   "source": [
    "#### Join the conversation\n",
    "If you have any questions, you’re welcome to ask our community on [CNG Discourse](https://cng.discourse.group/c/stac/15)"
   ]
  },
  {
   "cell_type": "markdown",
   "metadata": {},
   "source": []
  }
 ],
 "metadata": {
  "kernelspec": {
   "display_name": "Python 3 (ipykernel)",
   "language": "python",
   "name": "python3"
  },
  "language_info": {
   "codemirror_mode": {
    "name": "ipython",
    "version": 3
   },
   "file_extension": ".py",
   "mimetype": "text/x-python",
   "name": "python",
   "nbconvert_exporter": "python",
   "pygments_lexer": "ipython3",
   "version": "3.10.8"
  },
  "vscode": {
   "interpreter": {
    "hash": "b0fa6594d8f4cbf19f97940f81e996739fb7646882a419484c72d19e05852a7e"
   }
  }
 },
 "nbformat": 4,
 "nbformat_minor": 2
}
